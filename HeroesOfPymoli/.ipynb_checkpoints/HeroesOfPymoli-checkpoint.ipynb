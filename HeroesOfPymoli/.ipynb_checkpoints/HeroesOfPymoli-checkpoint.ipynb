{
 "cells": [
  {
   "cell_type": "markdown",
   "metadata": {},
   "source": [
    "# Data Analysis: Heroes of Pymoli\n",
    "\n"
   ]
  },
  {
   "cell_type": "code",
   "execution_count": 1,
   "metadata": {},
   "outputs": [],
   "source": [
    "#Import Pandas Library \n",
    "import pandas as pd "
   ]
  },
  {
   "cell_type": "code",
   "execution_count": 2,
   "metadata": {},
   "outputs": [
    {
     "data": {
      "text/html": [
       "<div>\n",
       "<style scoped>\n",
       "    .dataframe tbody tr th:only-of-type {\n",
       "        vertical-align: middle;\n",
       "    }\n",
       "\n",
       "    .dataframe tbody tr th {\n",
       "        vertical-align: top;\n",
       "    }\n",
       "\n",
       "    .dataframe thead th {\n",
       "        text-align: right;\n",
       "    }\n",
       "</style>\n",
       "<table border=\"1\" class=\"dataframe\">\n",
       "  <thead>\n",
       "    <tr style=\"text-align: right;\">\n",
       "      <th></th>\n",
       "      <th>Purchase ID</th>\n",
       "      <th>SN</th>\n",
       "      <th>Age</th>\n",
       "      <th>Gender</th>\n",
       "      <th>Item ID</th>\n",
       "      <th>Item Name</th>\n",
       "      <th>Price</th>\n",
       "    </tr>\n",
       "  </thead>\n",
       "  <tbody>\n",
       "  </tbody>\n",
       "</table>\n",
       "</div>"
      ],
      "text/plain": [
       "Empty DataFrame\n",
       "Columns: [Purchase ID, SN, Age, Gender, Item ID, Item Name, Price]\n",
       "Index: []"
      ]
     },
     "execution_count": 2,
     "metadata": {},
     "output_type": "execute_result"
    }
   ],
   "source": [
    "# Set CSV path to import data \n",
    "csv_path = \"Resources/purchase_data.csv\"\n",
    "\n",
    "# Read the CSV into a Pandas DataFrame\n",
    "data = pd.read_csv(csv_path)\n",
    "\n",
    "# Display columns for easy reference \n",
    "data.head(0)"
   ]
  },
  {
   "cell_type": "code",
   "execution_count": 3,
   "metadata": {},
   "outputs": [
    {
     "data": {
      "text/plain": [
       "Purchase ID    0\n",
       "SN             0\n",
       "Age            0\n",
       "Gender         0\n",
       "Item ID        0\n",
       "Item Name      0\n",
       "Price          0\n",
       "dtype: int64"
      ]
     },
     "execution_count": 3,
     "metadata": {},
     "output_type": "execute_result"
    }
   ],
   "source": [
    "# Check if there is any null entry in the data\n",
    "data.isnull().sum()"
   ]
  },
  {
   "cell_type": "markdown",
   "metadata": {},
   "source": [
    "### Player Count"
   ]
  },
  {
   "cell_type": "code",
   "execution_count": 4,
   "metadata": {},
   "outputs": [
    {
     "data": {
      "text/html": [
       "<div>\n",
       "<style scoped>\n",
       "    .dataframe tbody tr th:only-of-type {\n",
       "        vertical-align: middle;\n",
       "    }\n",
       "\n",
       "    .dataframe tbody tr th {\n",
       "        vertical-align: top;\n",
       "    }\n",
       "\n",
       "    .dataframe thead th {\n",
       "        text-align: right;\n",
       "    }\n",
       "</style>\n",
       "<table border=\"1\" class=\"dataframe\">\n",
       "  <thead>\n",
       "    <tr style=\"text-align: right;\">\n",
       "      <th></th>\n",
       "      <th>Total Players</th>\n",
       "    </tr>\n",
       "  </thead>\n",
       "  <tbody>\n",
       "    <tr>\n",
       "      <th>0</th>\n",
       "      <td>576</td>\n",
       "    </tr>\n",
       "  </tbody>\n",
       "</table>\n",
       "</div>"
      ],
      "text/plain": [
       "   Total Players\n",
       "0            576"
      ]
     },
     "execution_count": 4,
     "metadata": {},
     "output_type": "execute_result"
    }
   ],
   "source": [
    "# Count the total number of players\n",
    "player_count = len(data[\"SN\"].unique())\n",
    "player_count\n",
    "\n",
    "# Display the total number of players in dataframe\n",
    "total = pd.DataFrame({\"Total Players\" :[player_count]})\n",
    "total"
   ]
  },
  {
   "cell_type": "markdown",
   "metadata": {},
   "source": [
    " ### Purchasing Analysis  (Total)"
   ]
  },
  {
   "cell_type": "code",
   "execution_count": 5,
   "metadata": {
    "scrolled": true
   },
   "outputs": [
    {
     "data": {
      "text/html": [
       "<div>\n",
       "<style scoped>\n",
       "    .dataframe tbody tr th:only-of-type {\n",
       "        vertical-align: middle;\n",
       "    }\n",
       "\n",
       "    .dataframe tbody tr th {\n",
       "        vertical-align: top;\n",
       "    }\n",
       "\n",
       "    .dataframe thead th {\n",
       "        text-align: right;\n",
       "    }\n",
       "</style>\n",
       "<table border=\"1\" class=\"dataframe\">\n",
       "  <thead>\n",
       "    <tr style=\"text-align: right;\">\n",
       "      <th></th>\n",
       "      <th>Number of Unique Items</th>\n",
       "      <th>Average Price</th>\n",
       "      <th>Number of Purchases</th>\n",
       "      <th>Total Revenue</th>\n",
       "    </tr>\n",
       "  </thead>\n",
       "  <tbody>\n",
       "    <tr>\n",
       "      <th>0</th>\n",
       "      <td>179</td>\n",
       "      <td>$3.05</td>\n",
       "      <td>780</td>\n",
       "      <td>$2,379.77</td>\n",
       "    </tr>\n",
       "  </tbody>\n",
       "</table>\n",
       "</div>"
      ],
      "text/plain": [
       "   Number of Unique Items Average Price  Number of Purchases Total Revenue\n",
       "0                     179         $3.05                  780     $2,379.77"
      ]
     },
     "execution_count": 5,
     "metadata": {},
     "output_type": "execute_result"
    }
   ],
   "source": [
    "# Identify unique items and drop any duplicates \n",
    "items = data['Item ID'].drop_duplicates(keep='first')\n",
    "\n",
    "# Count the total of unique items \n",
    "items_count = len(items)\n",
    "\n",
    "# Calculate the average price \n",
    "average_price = round(data[\"Price\"].mean(),2)\n",
    "\n",
    "# Count the total number of purchases\n",
    "number_purchases = data[\"Purchase ID\"].count()\n",
    "\n",
    "# Calculate the total revenue \n",
    "total_revenue = data[\"Price\"].sum()\n",
    "\n",
    "# Display results in dataframe \n",
    "purchasing_total = pd.DataFrame({\"Number of Unique Items\": [items_count],\n",
    "                            \"Average Price\": [average_price],\n",
    "                            \"Number of Purchases\": [number_purchases],\n",
    "                            \"Total Revenue\": [total_revenue]})\n",
    "\n",
    "# Change format of 'Average Price' and 'Total Revenue' to currency \n",
    "purchasing_total [[\"Average Price\",\"Total Revenue\"]] \\\n",
    "= purchasing_total [[\"Average Price\",\"Total Revenue\"]].applymap(\"${:,.2f}\".format)\n",
    "\n",
    "purchasing_total"
   ]
  },
  {
   "cell_type": "markdown",
   "metadata": {},
   "source": [
    "### Gender Demographics"
   ]
  },
  {
   "cell_type": "code",
   "execution_count": 22,
   "metadata": {},
   "outputs": [
    {
     "data": {
      "text/html": [
       "<div>\n",
       "<style scoped>\n",
       "    .dataframe tbody tr th:only-of-type {\n",
       "        vertical-align: middle;\n",
       "    }\n",
       "\n",
       "    .dataframe tbody tr th {\n",
       "        vertical-align: top;\n",
       "    }\n",
       "\n",
       "    .dataframe thead th {\n",
       "        text-align: right;\n",
       "    }\n",
       "</style>\n",
       "<table border=\"1\" class=\"dataframe\">\n",
       "  <thead>\n",
       "    <tr style=\"text-align: right;\">\n",
       "      <th></th>\n",
       "      <th>Gender</th>\n",
       "      <th>Total Count</th>\n",
       "      <th>Percentage of Players</th>\n",
       "    </tr>\n",
       "  </thead>\n",
       "  <tbody>\n",
       "    <tr>\n",
       "      <th>0</th>\n",
       "      <td>Male</td>\n",
       "      <td>484</td>\n",
       "      <td>84.03%</td>\n",
       "    </tr>\n",
       "    <tr>\n",
       "      <th>1</th>\n",
       "      <td>Female</td>\n",
       "      <td>81</td>\n",
       "      <td>14.06%</td>\n",
       "    </tr>\n",
       "    <tr>\n",
       "      <th>2</th>\n",
       "      <td>Other / Non-Disclosed</td>\n",
       "      <td>11</td>\n",
       "      <td>1.91%</td>\n",
       "    </tr>\n",
       "  </tbody>\n",
       "</table>\n",
       "</div>"
      ],
      "text/plain": [
       "                  Gender  Total Count Percentage of Players\n",
       "0                   Male          484                84.03%\n",
       "1                 Female           81                14.06%\n",
       "2  Other / Non-Disclosed           11                 1.91%"
      ]
     },
     "execution_count": 22,
     "metadata": {},
     "output_type": "execute_result"
    }
   ],
   "source": [
    "# Drop any duplicates \n",
    "players = data[[\"Gender\", \"SN\"]].drop_duplicates(keep='first')\n",
    "\n",
    "# Count the amount of players by gender\n",
    "gender_count = players[\"Gender\"].value_counts()\n",
    "\n",
    "# Calculate the percentage of players by gender\n",
    "gender_percent = (round(gender_count / players[\"Gender\"].count() * 100, 2))\n",
    "\n",
    "# Display the gender demographics in a table\n",
    "gender_demo = pd.DataFrame({\"Total Count\": gender_count,\n",
    "                          \"Percentage of Players\" : gender_percent})\n",
    "\n",
    "# Change the format 'Percentage of Players' to percentage\n",
    "gender_demo[\"Percentage of Players\"] = gender_demo[\"Percentage of Players\"].apply(\"{0:.2f}%\".format)\n",
    "\n",
    "# Rename the axis to show data label \"Gender\"\n",
    "gender_demo = gender_demo.rename_axis(\"Gender\")\n",
    "\n",
    "gender_demo.reset_index()"
   ]
  },
  {
   "cell_type": "markdown",
   "metadata": {},
   "source": [
    "###  Purchasing Analysis (Gender)"
   ]
  },
  {
   "cell_type": "code",
   "execution_count": 17,
   "metadata": {},
   "outputs": [
    {
     "data": {
      "text/html": [
       "<div>\n",
       "<style scoped>\n",
       "    .dataframe tbody tr th:only-of-type {\n",
       "        vertical-align: middle;\n",
       "    }\n",
       "\n",
       "    .dataframe tbody tr th {\n",
       "        vertical-align: top;\n",
       "    }\n",
       "\n",
       "    .dataframe thead th {\n",
       "        text-align: right;\n",
       "    }\n",
       "</style>\n",
       "<table border=\"1\" class=\"dataframe\">\n",
       "  <thead>\n",
       "    <tr style=\"text-align: right;\">\n",
       "      <th></th>\n",
       "      <th>Gender</th>\n",
       "      <th>Purchase Count</th>\n",
       "      <th>Average Purchase Price</th>\n",
       "      <th>Total Purchase Value</th>\n",
       "      <th>Avg Total Purchase per Person</th>\n",
       "    </tr>\n",
       "  </thead>\n",
       "  <tbody>\n",
       "    <tr>\n",
       "      <th>0</th>\n",
       "      <td>Female</td>\n",
       "      <td>113</td>\n",
       "      <td>$3.20</td>\n",
       "      <td>$361.94</td>\n",
       "      <td>$4.47</td>\n",
       "    </tr>\n",
       "    <tr>\n",
       "      <th>1</th>\n",
       "      <td>Male</td>\n",
       "      <td>652</td>\n",
       "      <td>$3.02</td>\n",
       "      <td>$1967.64</td>\n",
       "      <td>$4.07</td>\n",
       "    </tr>\n",
       "    <tr>\n",
       "      <th>2</th>\n",
       "      <td>Other / Non-Disclosed</td>\n",
       "      <td>15</td>\n",
       "      <td>$3.35</td>\n",
       "      <td>$50.19</td>\n",
       "      <td>$4.56</td>\n",
       "    </tr>\n",
       "  </tbody>\n",
       "</table>\n",
       "</div>"
      ],
      "text/plain": [
       "                  Gender  Purchase Count Average Purchase Price  \\\n",
       "0                 Female             113                  $3.20   \n",
       "1                   Male             652                  $3.02   \n",
       "2  Other / Non-Disclosed              15                  $3.35   \n",
       "\n",
       "  Total Purchase Value Avg Total Purchase per Person  \n",
       "0              $361.94                         $4.47  \n",
       "1             $1967.64                         $4.07  \n",
       "2               $50.19                         $4.56  "
      ]
     },
     "execution_count": 17,
     "metadata": {},
     "output_type": "execute_result"
    }
   ],
   "source": [
    "# Count the amount of purchases by gender\n",
    "purch_count_gender = data.groupby(\"Gender\")['SN'].count()\n",
    "\n",
    "# Calculate the average purchase price\n",
    "avg_price_gender = data.groupby([\"Gender\"])[\"Price\"].mean()\n",
    "\n",
    "# Calculate the total purchase value\n",
    "purch_tot_gender = data.groupby([\"Gender\"])['Price'].sum()\n",
    "\n",
    "# Calculate the average purchase total per person by gender\n",
    "avg_tot_gender = purch_tot_gender / gender_demo['Total Count']\n",
    "\n",
    "# Display results in DataFrame \n",
    "purchasing_gender = pd.DataFrame({\"Purchase Count\": (purch_count_gender.astype('int')),\n",
    "                                  \"Average Purchase Price\" : (avg_price_gender.apply(\"${0:.2f}\".format)),\n",
    "                                  \"Total Purchase Value\": (purch_tot_gender.apply(\"${0:.2f}\".format)),\n",
    "                                  \"Avg Total Purchase per Person\" : (avg_tot_gender.apply(\"${0:.2f}\".format))})\n",
    "\n",
    "\n",
    "\n",
    "purchasing_gender.reset_index()"
   ]
  },
  {
   "cell_type": "markdown",
   "metadata": {},
   "source": [
    "### Age Demographics"
   ]
  },
  {
   "cell_type": "code",
   "execution_count": 8,
   "metadata": {},
   "outputs": [
    {
     "data": {
      "text/html": [
       "<style  type=\"text/css\" >\n",
       "</style><table id=\"T_181a44a3_0c8c_11eb_92f3_d8c4970340e8\" ><thead>    <tr>        <th class=\"col_heading level0 col0\" >Age Ranges</th>        <th class=\"col_heading level0 col1\" >Total Count</th>        <th class=\"col_heading level0 col2\" >Percentage of Players</th>    </tr></thead><tbody>\n",
       "                <tr>\n",
       "                                <td id=\"T_181a44a3_0c8c_11eb_92f3_d8c4970340e8row0_col0\" class=\"data row0 col0\" ><10</td>\n",
       "                        <td id=\"T_181a44a3_0c8c_11eb_92f3_d8c4970340e8row0_col1\" class=\"data row0 col1\" >258</td>\n",
       "                        <td id=\"T_181a44a3_0c8c_11eb_92f3_d8c4970340e8row0_col2\" class=\"data row0 col2\" >44.79%</td>\n",
       "            </tr>\n",
       "            <tr>\n",
       "                                <td id=\"T_181a44a3_0c8c_11eb_92f3_d8c4970340e8row1_col0\" class=\"data row1 col0\" >10-14</td>\n",
       "                        <td id=\"T_181a44a3_0c8c_11eb_92f3_d8c4970340e8row1_col1\" class=\"data row1 col1\" >107</td>\n",
       "                        <td id=\"T_181a44a3_0c8c_11eb_92f3_d8c4970340e8row1_col2\" class=\"data row1 col2\" >18.58%</td>\n",
       "            </tr>\n",
       "            <tr>\n",
       "                                <td id=\"T_181a44a3_0c8c_11eb_92f3_d8c4970340e8row2_col0\" class=\"data row2 col0\" >15-19</td>\n",
       "                        <td id=\"T_181a44a3_0c8c_11eb_92f3_d8c4970340e8row2_col1\" class=\"data row2 col1\" >77</td>\n",
       "                        <td id=\"T_181a44a3_0c8c_11eb_92f3_d8c4970340e8row2_col2\" class=\"data row2 col2\" >13.37%</td>\n",
       "            </tr>\n",
       "            <tr>\n",
       "                                <td id=\"T_181a44a3_0c8c_11eb_92f3_d8c4970340e8row3_col0\" class=\"data row3 col0\" >20-24</td>\n",
       "                        <td id=\"T_181a44a3_0c8c_11eb_92f3_d8c4970340e8row3_col1\" class=\"data row3 col1\" >52</td>\n",
       "                        <td id=\"T_181a44a3_0c8c_11eb_92f3_d8c4970340e8row3_col2\" class=\"data row3 col2\" >9.03%</td>\n",
       "            </tr>\n",
       "            <tr>\n",
       "                                <td id=\"T_181a44a3_0c8c_11eb_92f3_d8c4970340e8row4_col0\" class=\"data row4 col0\" >25-29</td>\n",
       "                        <td id=\"T_181a44a3_0c8c_11eb_92f3_d8c4970340e8row4_col1\" class=\"data row4 col1\" >31</td>\n",
       "                        <td id=\"T_181a44a3_0c8c_11eb_92f3_d8c4970340e8row4_col2\" class=\"data row4 col2\" >5.38%</td>\n",
       "            </tr>\n",
       "            <tr>\n",
       "                                <td id=\"T_181a44a3_0c8c_11eb_92f3_d8c4970340e8row5_col0\" class=\"data row5 col0\" >30-34</td>\n",
       "                        <td id=\"T_181a44a3_0c8c_11eb_92f3_d8c4970340e8row5_col1\" class=\"data row5 col1\" >22</td>\n",
       "                        <td id=\"T_181a44a3_0c8c_11eb_92f3_d8c4970340e8row5_col2\" class=\"data row5 col2\" >3.82%</td>\n",
       "            </tr>\n",
       "            <tr>\n",
       "                                <td id=\"T_181a44a3_0c8c_11eb_92f3_d8c4970340e8row6_col0\" class=\"data row6 col0\" >35-39</td>\n",
       "                        <td id=\"T_181a44a3_0c8c_11eb_92f3_d8c4970340e8row6_col1\" class=\"data row6 col1\" >17</td>\n",
       "                        <td id=\"T_181a44a3_0c8c_11eb_92f3_d8c4970340e8row6_col2\" class=\"data row6 col2\" >2.95%</td>\n",
       "            </tr>\n",
       "            <tr>\n",
       "                                <td id=\"T_181a44a3_0c8c_11eb_92f3_d8c4970340e8row7_col0\" class=\"data row7 col0\" >40+</td>\n",
       "                        <td id=\"T_181a44a3_0c8c_11eb_92f3_d8c4970340e8row7_col1\" class=\"data row7 col1\" >12</td>\n",
       "                        <td id=\"T_181a44a3_0c8c_11eb_92f3_d8c4970340e8row7_col2\" class=\"data row7 col2\" >2.08%</td>\n",
       "            </tr>\n",
       "    </tbody></table>"
      ],
      "text/plain": [
       "<pandas.io.formats.style.Styler at 0x1d2a0a851f0>"
      ]
     },
     "execution_count": 8,
     "metadata": {},
     "output_type": "execute_result"
    }
   ],
   "source": [
    "# Drop any duplicates \n",
    "players = data[[\"Age\", \"SN\"]].drop_duplicates()\n",
    "\n",
    "# Establish bins for ages and age group\n",
    "bins = [0,9,14,19,24,29,34,39,100]\n",
    "age_group = [\"<10\",\"10-14\",\"15-19\",\"20-24\",\"25-29\",\"30-34\",\"35-39\",\"40+\"]\n",
    "\n",
    "# Categorize the existing players using the age bins. \n",
    "players['Age Range'] = pd.cut(players['Age'], bins)\n",
    "\n",
    "# Calculate the numbers and percentages by age group\n",
    "age_count = players[\"Age Range\"].value_counts()\n",
    "age_percent = ((age_count/players[\"SN\"].count()) * 100).round(2)\n",
    "\n",
    "# Display results in DataFrame \n",
    "players = pd.DataFrame({'Age Ranges': age_group, 'Total Count': age_count,'Percentage of Players': age_percent})\n",
    "players['Percentage of Players'] = players['Percentage of Players'].apply('{:.2f}%'.format)\n",
    "\n",
    "# Rename the axis to show data label \"Age Ranges\"\n",
    "\n",
    "players.style.hide_index()\n"
   ]
  },
  {
   "cell_type": "markdown",
   "metadata": {},
   "source": [
    "### Purchasing Analysis (Age)"
   ]
  },
  {
   "cell_type": "code",
   "execution_count": 21,
   "metadata": {},
   "outputs": [
    {
     "data": {
      "text/html": [
       "<style  type=\"text/css\" >\n",
       "</style><table id=\"T_6548d427_0c8d_11eb_b213_d8c4970340e8\" ><thead>    <tr>        <th class=\"col_heading level0 col0\" >Age Ranges</th>        <th class=\"col_heading level0 col1\" >Purchase Count</th>        <th class=\"col_heading level0 col2\" >Average Purchase Price</th>        <th class=\"col_heading level0 col3\" >Total Purchase Value</th>        <th class=\"col_heading level0 col4\" >Avg Total Purchase per Person</th>    </tr></thead><tbody>\n",
       "                <tr>\n",
       "                                <td id=\"T_6548d427_0c8d_11eb_b213_d8c4970340e8row0_col0\" class=\"data row0 col0\" ><10</td>\n",
       "                        <td id=\"T_6548d427_0c8d_11eb_b213_d8c4970340e8row0_col1\" class=\"data row0 col1\" >23</td>\n",
       "                        <td id=\"T_6548d427_0c8d_11eb_b213_d8c4970340e8row0_col2\" class=\"data row0 col2\" >$3.35</td>\n",
       "                        <td id=\"T_6548d427_0c8d_11eb_b213_d8c4970340e8row0_col3\" class=\"data row0 col3\" >$77.13</td>\n",
       "                        <td id=\"T_6548d427_0c8d_11eb_b213_d8c4970340e8row0_col4\" class=\"data row0 col4\" >$4.54</td>\n",
       "            </tr>\n",
       "            <tr>\n",
       "                                <td id=\"T_6548d427_0c8d_11eb_b213_d8c4970340e8row1_col0\" class=\"data row1 col0\" >10-14</td>\n",
       "                        <td id=\"T_6548d427_0c8d_11eb_b213_d8c4970340e8row1_col1\" class=\"data row1 col1\" >28</td>\n",
       "                        <td id=\"T_6548d427_0c8d_11eb_b213_d8c4970340e8row1_col2\" class=\"data row1 col2\" >$2.96</td>\n",
       "                        <td id=\"T_6548d427_0c8d_11eb_b213_d8c4970340e8row1_col3\" class=\"data row1 col3\" >$82.78</td>\n",
       "                        <td id=\"T_6548d427_0c8d_11eb_b213_d8c4970340e8row1_col4\" class=\"data row1 col4\" >$3.76</td>\n",
       "            </tr>\n",
       "            <tr>\n",
       "                                <td id=\"T_6548d427_0c8d_11eb_b213_d8c4970340e8row2_col0\" class=\"data row2 col0\" >15-19</td>\n",
       "                        <td id=\"T_6548d427_0c8d_11eb_b213_d8c4970340e8row2_col1\" class=\"data row2 col1\" >136</td>\n",
       "                        <td id=\"T_6548d427_0c8d_11eb_b213_d8c4970340e8row2_col2\" class=\"data row2 col2\" >$3.04</td>\n",
       "                        <td id=\"T_6548d427_0c8d_11eb_b213_d8c4970340e8row2_col3\" class=\"data row2 col3\" >$412.89</td>\n",
       "                        <td id=\"T_6548d427_0c8d_11eb_b213_d8c4970340e8row2_col4\" class=\"data row2 col4\" >$3.86</td>\n",
       "            </tr>\n",
       "            <tr>\n",
       "                                <td id=\"T_6548d427_0c8d_11eb_b213_d8c4970340e8row3_col0\" class=\"data row3 col0\" >20-24</td>\n",
       "                        <td id=\"T_6548d427_0c8d_11eb_b213_d8c4970340e8row3_col1\" class=\"data row3 col1\" >365</td>\n",
       "                        <td id=\"T_6548d427_0c8d_11eb_b213_d8c4970340e8row3_col2\" class=\"data row3 col2\" >$3.05</td>\n",
       "                        <td id=\"T_6548d427_0c8d_11eb_b213_d8c4970340e8row3_col3\" class=\"data row3 col3\" >$1114.06</td>\n",
       "                        <td id=\"T_6548d427_0c8d_11eb_b213_d8c4970340e8row3_col4\" class=\"data row3 col4\" >$4.32</td>\n",
       "            </tr>\n",
       "            <tr>\n",
       "                                <td id=\"T_6548d427_0c8d_11eb_b213_d8c4970340e8row4_col0\" class=\"data row4 col0\" >25-29</td>\n",
       "                        <td id=\"T_6548d427_0c8d_11eb_b213_d8c4970340e8row4_col1\" class=\"data row4 col1\" >101</td>\n",
       "                        <td id=\"T_6548d427_0c8d_11eb_b213_d8c4970340e8row4_col2\" class=\"data row4 col2\" >$2.90</td>\n",
       "                        <td id=\"T_6548d427_0c8d_11eb_b213_d8c4970340e8row4_col3\" class=\"data row4 col3\" >$293.00</td>\n",
       "                        <td id=\"T_6548d427_0c8d_11eb_b213_d8c4970340e8row4_col4\" class=\"data row4 col4\" >$3.81</td>\n",
       "            </tr>\n",
       "            <tr>\n",
       "                                <td id=\"T_6548d427_0c8d_11eb_b213_d8c4970340e8row5_col0\" class=\"data row5 col0\" >30-34</td>\n",
       "                        <td id=\"T_6548d427_0c8d_11eb_b213_d8c4970340e8row5_col1\" class=\"data row5 col1\" >73</td>\n",
       "                        <td id=\"T_6548d427_0c8d_11eb_b213_d8c4970340e8row5_col2\" class=\"data row5 col2\" >$2.93</td>\n",
       "                        <td id=\"T_6548d427_0c8d_11eb_b213_d8c4970340e8row5_col3\" class=\"data row5 col3\" >$214.00</td>\n",
       "                        <td id=\"T_6548d427_0c8d_11eb_b213_d8c4970340e8row5_col4\" class=\"data row5 col4\" >$4.12</td>\n",
       "            </tr>\n",
       "            <tr>\n",
       "                                <td id=\"T_6548d427_0c8d_11eb_b213_d8c4970340e8row6_col0\" class=\"data row6 col0\" >35-39</td>\n",
       "                        <td id=\"T_6548d427_0c8d_11eb_b213_d8c4970340e8row6_col1\" class=\"data row6 col1\" >41</td>\n",
       "                        <td id=\"T_6548d427_0c8d_11eb_b213_d8c4970340e8row6_col2\" class=\"data row6 col2\" >$3.60</td>\n",
       "                        <td id=\"T_6548d427_0c8d_11eb_b213_d8c4970340e8row6_col3\" class=\"data row6 col3\" >$147.67</td>\n",
       "                        <td id=\"T_6548d427_0c8d_11eb_b213_d8c4970340e8row6_col4\" class=\"data row6 col4\" >$4.76</td>\n",
       "            </tr>\n",
       "            <tr>\n",
       "                                <td id=\"T_6548d427_0c8d_11eb_b213_d8c4970340e8row7_col0\" class=\"data row7 col0\" >40+</td>\n",
       "                        <td id=\"T_6548d427_0c8d_11eb_b213_d8c4970340e8row7_col1\" class=\"data row7 col1\" >13</td>\n",
       "                        <td id=\"T_6548d427_0c8d_11eb_b213_d8c4970340e8row7_col2\" class=\"data row7 col2\" >$2.94</td>\n",
       "                        <td id=\"T_6548d427_0c8d_11eb_b213_d8c4970340e8row7_col3\" class=\"data row7 col3\" >$38.24</td>\n",
       "                        <td id=\"T_6548d427_0c8d_11eb_b213_d8c4970340e8row7_col4\" class=\"data row7 col4\" >$3.19</td>\n",
       "            </tr>\n",
       "    </tbody></table>"
      ],
      "text/plain": [
       "<pandas.io.formats.style.Styler at 0x1d2a2b98220>"
      ]
     },
     "execution_count": 21,
     "metadata": {},
     "output_type": "execute_result"
    }
   ],
   "source": [
    "\n",
    "# Categorize the players using the age bins. \n",
    "data['Age Ranges'] = pd.cut(data['Age'], bins)\n",
    "age_count = data[\"Age Ranges\"].value_counts()\n",
    "\n",
    "# Count the amount of purchases by age\n",
    "purch_count_age = data.groupby(\"Age Ranges\")['SN'].count()\n",
    "\n",
    "# Calculate the average purchase price\n",
    "avg_price_age = data.groupby(\"Age Ranges\")['Price'].mean()\n",
    "\n",
    "\n",
    "# Calculate the total purchase value\n",
    "purch_tot_age = data.groupby(\"Age Ranges\")['Price'].sum()\n",
    "\n",
    "# Calculate the average purchase total per person by age\n",
    "avg_tot_age = purch_tot_age / players['Total Count']\n",
    "\n",
    "# Display results in DataFrame \n",
    "purchasing_age = pd.DataFrame({'Age Ranges': age_group, \n",
    "                               'Purchase Count': purch_count_age,\n",
    "                               'Average Purchase Price': (avg_price_age.apply(\"${0:.2f}\".format)),\n",
    "                               'Total Purchase Value': (purch_tot_age.apply(\"${0:.2f}\".format)), \n",
    "                               'Avg Total Purchase per Person': (avg_tot_age.apply(\"${0:.2f}\".format))})\n",
    "\n",
    "\n",
    "purchasing_age.style.hide_index()"
   ]
  },
  {
   "cell_type": "markdown",
   "metadata": {},
   "source": [
    "###  Top Spenders"
   ]
  },
  {
   "cell_type": "code",
   "execution_count": null,
   "metadata": {},
   "outputs": [],
   "source": []
  }
 ],
 "metadata": {
  "kernelspec": {
   "display_name": "Python 3",
   "language": "python",
   "name": "python3"
  },
  "language_info": {
   "codemirror_mode": {
    "name": "ipython",
    "version": 3
   },
   "file_extension": ".py",
   "mimetype": "text/x-python",
   "name": "python",
   "nbconvert_exporter": "python",
   "pygments_lexer": "ipython3",
   "version": "3.8.3"
  }
 },
 "nbformat": 4,
 "nbformat_minor": 4
}
